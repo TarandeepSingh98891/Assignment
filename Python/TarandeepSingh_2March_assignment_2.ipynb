{
 "cells": [
  {
   "cell_type": "markdown",
   "id": "b26dc9c8",
   "metadata": {},
   "source": [
    "1.\tCreate a python program to find duplicate files by content. User will input path and it will scan all directories, sub-directories to find all duplicates files.\n",
    "Delete the found duplicate file.\n"
   ]
  },
  {
   "cell_type": "code",
   "execution_count": 1,
   "id": "834fad50",
   "metadata": {},
   "outputs": [
    {
     "name": "stdout",
     "output_type": "stream",
     "text": [
      "Enter pathC:/Users/tarasingh/Desktop/Python training data/New folder_assignment/\n",
      "The path of files which are removed are:-\n",
      "C:/Users/tarasingh/Desktop/Python training data/New folder_assignment/test\\test2.txt\n",
      "C:/Users/tarasingh/Desktop/Python training data/New folder_assignment/test\\test3.txt\n",
      "C:/Users/tarasingh/Desktop/Python training data/New folder_assignment/test\\testfake2.txt\n",
      "C:/Users/tarasingh/Desktop/Python training data/New folder_assignment/test - Copy\\test.txt\n",
      "C:/Users/tarasingh/Desktop/Python training data/New folder_assignment/test - Copy\\test2.txt\n",
      "C:/Users/tarasingh/Desktop/Python training data/New folder_assignment/test - Copy\\test3.txt\n",
      "C:/Users/tarasingh/Desktop/Python training data/New folder_assignment/test - Copy\\testfake.txt\n",
      "C:/Users/tarasingh/Desktop/Python training data/New folder_assignment/test - Copy\\testfake2.txt\n"
     ]
    }
   ],
   "source": [
    "import os\n",
    "\n",
    "import hashlib\n",
    "import os\n",
    "def hash_string(input):\n",
    "    byte_input=input.encode()\n",
    "    hash_object=hashlib.sha256(byte_input)\n",
    "    return hash_object.hexdigest()\n",
    "\n",
    "#path =\"C:/Users/tarasingh/Desktop/Python training data/New folder_assignment/\"\n",
    "path=input(\"Enter path\")\n",
    "filelist = {}\n",
    "print(\"The path of files which are removed are:-\")\n",
    "for root, dirs, files in os.walk(path):\n",
    "    for file in files:\n",
    "        #append the file name to the list\n",
    "        x=os.path.join(root,file)\n",
    "        l=open(x)\n",
    "        a=l.read()\n",
    "        l.close()\n",
    "        a=hash_string(a)\n",
    "        if a in filelist.keys():\n",
    "            os.remove(x)\n",
    "            print(x)\n",
    "        else:\n",
    "            filelist[a]=x"
   ]
  },
  {
   "cell_type": "markdown",
   "id": "710aeaf0",
   "metadata": {},
   "source": [
    "2.\tGenerate random Password with exact length = 6, with minimum 1 uppercase, 2 lowercase, 2 digits, and remaining special characters.\n",
    "Using these packages [random, strings]\n"
   ]
  },
  {
   "cell_type": "code",
   "execution_count": 21,
   "id": "8e338d22",
   "metadata": {},
   "outputs": [
    {
     "name": "stdout",
     "output_type": "stream",
     "text": [
      "I04(pq\n"
     ]
    }
   ],
   "source": [
    "import random\n",
    "import string\n",
    "lc=string.ascii_lowercase\n",
    "uc=string.ascii_uppercase\n",
    "d=string.digits\n",
    "l=[]\n",
    "l.append(random.choice(uc))\n",
    "for i in range(2):\n",
    "    l.append(random.choice(lc))\n",
    "for i in range(2):\n",
    "    l.append(random.choice(d))\n",
    "l.append(random.choice(string.punctuation))\n",
    "p=''\n",
    "while len(l)>0:\n",
    "    c=random.choice(l)\n",
    "    p+=c\n",
    "    l.remove(c)\n",
    "print(p)\n"
   ]
  },
  {
   "cell_type": "markdown",
   "id": "8ab9b22b",
   "metadata": {},
   "source": [
    "3.\tCreate 2D array and update the same 2D array provided that every prime number position should be replaced by cube of the positioned number."
   ]
  },
  {
   "cell_type": "code",
   "execution_count": 70,
   "id": "43f63382",
   "metadata": {
    "scrolled": true
   },
   "outputs": [
    {
     "name": "stdout",
     "output_type": "stream",
     "text": [
      "Input:-\n",
      "[[  2   3   4  66]\n",
      " [ 25  31  42 656]\n",
      " [222  43  47 646]\n",
      " [ 22  31  14 166]]\n",
      "Output:-\n",
      "[[        8        27        64    287496]\n",
      " [       25     29791        42 282300416]\n",
      " [      222        43        47 269586136]\n",
      " [       22     29791        14       166]]\n"
     ]
    }
   ],
   "source": [
    "import numpy as np\n",
    "import math\n",
    "def isPrime(n):\n",
    "    for i in range(2,(n//2)+1):\n",
    "        if n%i==0:\n",
    "            return False\n",
    "    return True\n",
    "\n",
    "l=[[2,3,4,66],\n",
    "  [25,31,42,656],\n",
    "  [222,43,47,646],\n",
    "  [22,31,14,166]]\n",
    "s=int(len(l))\n",
    "arr=np.array(l).reshape(s,s)\n",
    "print('Input:-')\n",
    "print(arr)\n",
    "\n",
    "for i in range(s):\n",
    "    for j in range(s):\n",
    "        xx=i*s+j\n",
    "        x=arr[i][j]\n",
    "        arr[i][j]=x*x*x if isPrime(xx) else x\n",
    "\n",
    "print('Output:-')        \n",
    "print(arr)"
   ]
  },
  {
   "cell_type": "markdown",
   "id": "81f59ea6",
   "metadata": {},
   "source": [
    "4.\tPython program to get the sum of every cubed value and its previous integer. "
   ]
  },
  {
   "cell_type": "code",
   "execution_count": 71,
   "id": "0a2fd5ef",
   "metadata": {},
   "outputs": [
    {
     "name": "stdout",
     "output_type": "stream",
     "text": [
      "552234310\n"
     ]
    }
   ],
   "source": [
    "def isCube(n):\n",
    "    if n**(1/3)==abs(n**(1/3)):\n",
    "        return True\n",
    "    return False\n",
    "ans=0\n",
    "for i in range(s):\n",
    "    for j in range(s):\n",
    "        ans+=arr[i][j] if isCube(arr[i][j]) else 0\n",
    "print(ans)"
   ]
  },
  {
   "cell_type": "markdown",
   "id": "0281cf6d",
   "metadata": {},
   "source": [
    "5.\tGiven two arrays, find their intersection. Examples:\n",
    "\n",
    "Input:  arr1[] = [1, 3, 4, 5, 7]\n",
    "             arr2[] = [2, 3, 5, 6]\n"
   ]
  },
  {
   "cell_type": "code",
   "execution_count": 30,
   "id": "0de7f6c7",
   "metadata": {},
   "outputs": [
    {
     "name": "stdout",
     "output_type": "stream",
     "text": [
      "[3 5]\n"
     ]
    }
   ],
   "source": [
    "import numpy as np\n",
    "arr1=np.array([1,3,4,5,7])\n",
    "arr2=np.array([2,3,5,6])\n",
    "print(np.intersect1d(arr1,arr2))"
   ]
  },
  {
   "cell_type": "markdown",
   "id": "384e80b3",
   "metadata": {},
   "source": [
    "6.\tCreate a 7 x 7  2D array having only multiples of 7. And return the last element of the same."
   ]
  },
  {
   "cell_type": "code",
   "execution_count": 37,
   "id": "de252911",
   "metadata": {},
   "outputs": [
    {
     "name": "stdout",
     "output_type": "stream",
     "text": [
      "[[  7  14  21  28  35  42  49]\n",
      " [ 56  63  70  77  84  91  98]\n",
      " [105 112 119 126 133 140 147]\n",
      " [154 161 168 175 182 189 196]\n",
      " [203 210 217 224 231 238 245]\n",
      " [252 259 266 273 280 287 294]\n",
      " [301 308 315 322 329 336 343]]\n",
      "343\n"
     ]
    }
   ],
   "source": [
    "arr=np.arange(7,(7*7*7)+1,7).reshape(7,7)\n",
    "print(arr)\n",
    "print(arr[6][6])"
   ]
  },
  {
   "cell_type": "markdown",
   "id": "8061d9fc",
   "metadata": {},
   "source": [
    "7.\tChecker Board Patten using Numpy:\n",
    "[   1   0   1   0   1   0   1\n",
    "    0   1   0   1   0   1   0\n",
    "    1   0   1   0   1   0   1\n",
    "    0   1   0   1   0   1   0\n",
    "    1   0   1   0   1   0   1  ]\n"
   ]
  },
  {
   "cell_type": "code",
   "execution_count": 43,
   "id": "4002db83",
   "metadata": {},
   "outputs": [
    {
     "name": "stdout",
     "output_type": "stream",
     "text": [
      "[[1. 0. 1. 0. 1.]\n",
      " [0. 1. 0. 1. 0.]\n",
      " [1. 0. 1. 0. 1.]\n",
      " [0. 1. 0. 1. 0.]\n",
      " [1. 0. 1. 0. 1.]\n",
      " [0. 1. 0. 1. 0.]\n",
      " [1. 0. 1. 0. 1.]]\n"
     ]
    }
   ],
   "source": [
    "x = np.ones((7, 5))\n",
    "x[1::2, ::2] = 0\n",
    "x[::2, 1::2] = 0\n",
    "print(x)"
   ]
  },
  {
   "cell_type": "markdown",
   "id": "62e46a2f",
   "metadata": {},
   "source": [
    "8.\tCreate a given Matrix:\n",
    "[  A,     B,     C,       D\n",
    "   E,      F,     G,       H\n",
    "    I,      a,      K,       L\n",
    "   M,    N,     o,       P\n",
    "   Q,     R,      S,       T\n",
    "   U,     0,     W,      O ]\n",
    "\n",
    "Replace all the vowels by np.nan\n",
    "A, E, I, O U  -- >  np.nan\n",
    "Return the count of the missing values\n"
   ]
  },
  {
   "cell_type": "code",
   "execution_count": 3,
   "id": "175a53d5",
   "metadata": {},
   "outputs": [
    {
     "name": "stdout",
     "output_type": "stream",
     "text": [
      "[['A', 'B', 'C', 'D'], ['E', 'F', 'G', 'H'], ['I', 'a', 'K', 'L'], ['M', 'N', 'o', 'P'], ['Q', 'R', 'S', 'T'], ['U', '0', 'W', 'O']]\n",
      "7\n"
     ]
    }
   ],
   "source": [
    "import numpy as np\n",
    "import string\n",
    "l=[[ 'A','B', 'C', 'D'],\n",
    "   ['E', 'F', 'G', 'H' ],\n",
    "   ['I', 'a', 'K', 'L' ],\n",
    "   ['M', 'N', 'o', 'P' ],\n",
    "   ['Q', 'R', 'S', 'T' ],\n",
    "   ['U', '0', 'W', 'O' ]]\n",
    "print(l)\n",
    "def isVowel(a):\n",
    "    a=a.lower()\n",
    "    if a in {'a','e','i','o','u'}:\n",
    "        return True\n",
    "    return False\n",
    "\n",
    "for i in range(len(l)):\n",
    "    for j in range(len(l[0])):\n",
    "        l[i][j]=np.nan if isVowel(l[i][j]) else l[i][j]\n",
    "\n",
    "count=0\n",
    "for i in range(len(l)):\n",
    "    count+=l[i].count(np.nan)\n",
    "print(count)"
   ]
  },
  {
   "cell_type": "code",
   "execution_count": 68,
   "id": "cceea3e3",
   "metadata": {},
   "outputs": [
    {
     "name": "stdout",
     "output_type": "stream",
     "text": [
      "[['A', 'B', 'C', 'D'], ['E', 'F', 'G', 'H'], ['I', 'a', 'K', 'L'], ['M', 'N', 'o', 'P'], ['Q', 'R', 'S', 'T'], ['U', '0', 'W', 'O']]\n",
      "[[nan, 'B', 'C', 'D'], [nan, 'F', 'G', 'H'], [nan, nan, 'K', 'L'], ['M', 'N', nan, 'P'], ['Q', 'R', 'S', 'T'], [nan, '0', 'W', nan]]\n",
      "7\n"
     ]
    }
   ],
   "source": [
    "#Second Method\n",
    "import numpy as np\n",
    "l=[[ 'A','B', 'C', 'D'],\n",
    "   ['E', 'F', 'G', 'H' ],\n",
    "   ['I', 'a', 'K', 'L' ],\n",
    "   ['M', 'N', 'o', 'P' ],\n",
    "   ['Q', 'R', 'S', 'T' ],\n",
    "   ['U', '0', 'W', 'O' ]]\n",
    "print(l)\n",
    "def isVowel(a):\n",
    "    a=a.lower()\n",
    "    if a in {'a','e','i','o','u'}:\n",
    "        return True\n",
    "    return False\n",
    "\n",
    "count=0\n",
    "for i in range(len(l)):\n",
    "    for j in range(len(l[0])):\n",
    "        if isVowel(l[i][j]) :\n",
    "            l[i][j]=np.nan\n",
    "            count+=1\n",
    "\n",
    "print(l)\n",
    "\n",
    "print(count)"
   ]
  },
  {
   "cell_type": "code",
   "execution_count": null,
   "id": "dc8432dd",
   "metadata": {},
   "outputs": [],
   "source": []
  }
 ],
 "metadata": {
  "kernelspec": {
   "display_name": "Python 3 (ipykernel)",
   "language": "python",
   "name": "python3"
  },
  "language_info": {
   "codemirror_mode": {
    "name": "ipython",
    "version": 3
   },
   "file_extension": ".py",
   "mimetype": "text/x-python",
   "name": "python",
   "nbconvert_exporter": "python",
   "pygments_lexer": "ipython3",
   "version": "3.9.13"
  }
 },
 "nbformat": 4,
 "nbformat_minor": 5
}
